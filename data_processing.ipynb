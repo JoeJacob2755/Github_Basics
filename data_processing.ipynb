{
 "cells": [
  {
   "cell_type": "code",
   "execution_count": null,
   "metadata": {},
   "outputs": [],
   "source": [
    "print(\"Adding all the code related data proecessing\")"
   ]
  },
  {
   "cell_type": "code",
   "execution_count": null,
   "metadata": {},
   "outputs": [],
   "source": [
    "## Creating new code for the purpose of correction\n",
    "\n",
    "a = 5\n",
    "b = 7\n",
    "\n",
    "def sum(a,b):\n",
    "    c = a + b\n",
    "    return a # This is intentioonally written: a instead of c\n",
    "\n",
    "print(\"Added new function sum which is incorrect\")"
   ]
  }
 ],
 "metadata": {
  "language_info": {
   "name": "python"
  },
  "orig_nbformat": 4
 },
 "nbformat": 4,
 "nbformat_minor": 2
}
